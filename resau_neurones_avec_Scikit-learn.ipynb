{
 "cells": [
  {
   "cell_type": "code",
   "execution_count": 4,
   "id": "0ae1dee4",
   "metadata": {},
   "outputs": [],
   "source": [
    "# import des bibliotheques\n",
    "\n",
    "from sklearn import datasets\n",
    "from sklearn.neural_network import MLPClassifier #  permettre de definir notre reseau de neurones\n",
    "from sklearn.metrics import accuracy_score # permet de mesure la metrique de performances \n",
    "import matplotlib.pyplot as plt # realiser des graphique\n",
    "import matplotlib.colors # realiser des  graphiques"
   ]
  },
  {
   "cell_type": "code",
   "execution_count": 6,
   "id": "7bc9cc28",
   "metadata": {},
   "outputs": [
    {
     "data": {
      "text/plain": [
       "['DESCR', 'data', 'feature_names', 'frame', 'images', 'target', 'target_names']"
      ]
     },
     "execution_count": 6,
     "metadata": {},
     "output_type": "execute_result"
    }
   ],
   "source": [
    "# charger le jeu de donnes\n",
    "\n",
    "df = datasets.load_digits()\n",
    "dir(df) # permet d'afficher les proprietes du jeu de donnees df "
   ]
  },
  {
   "cell_type": "code",
   "execution_count": 7,
   "id": "75dc4088",
   "metadata": {},
   "outputs": [
    {
     "data": {
      "text/plain": [
       "(1797, 8, 8)"
      ]
     },
     "execution_count": 7,
     "metadata": {},
     "output_type": "execute_result"
    }
   ],
   "source": [
    "# Verfier que les attribut images ont bien etait charger\n",
    "\n",
    "df.images.shape"
   ]
  },
  {
   "cell_type": "code",
   "execution_count": 8,
   "id": "7361e3b8",
   "metadata": {},
   "outputs": [
    {
     "name": "stdout",
     "output_type": "stream",
     "text": [
      "Il y a 1797 classes dans df.target = [0 1 2 ... 8 9 8] \n"
     ]
    }
   ],
   "source": [
    "# Verifier que l'attribut 'target' contient bien les classes d'image\n",
    "\n",
    "print(f\"Il y a { len(df.target) } classes dans df.target = {df.target} \")"
   ]
  },
  {
   "cell_type": "code",
   "execution_count": 10,
   "id": "21ecf64a",
   "metadata": {},
   "outputs": [
    {
     "name": "stdout",
     "output_type": "stream",
     "text": [
      "[[ 0.  0.  5. 13.  9.  1.  0.  0.]\n",
      " [ 0.  0. 13. 15. 10. 15.  5.  0.]\n",
      " [ 0.  3. 15.  2.  0. 11.  8.  0.]\n",
      " [ 0.  4. 12.  0.  0.  8.  8.  0.]\n",
      " [ 0.  5.  8.  0.  0.  9.  8.  0.]\n",
      " [ 0.  4. 11.  0.  1. 12.  7.  0.]\n",
      " [ 0.  2. 14.  5. 10. 12.  0.  0.]\n",
      " [ 0.  0.  6. 13. 10.  0.  0.  0.]]\n"
     ]
    }
   ],
   "source": [
    "# Acceder aux matrices d'images\n",
    "\n",
    "print(df.images[0])"
   ]
  },
  {
   "cell_type": "code",
   "execution_count": 14,
   "id": "30e656be",
   "metadata": {},
   "outputs": [],
   "source": [
    "# Visualiser certaines images  du jeu de donne \n",
    "\n",
    "def plot_digits(start) :\n",
    "    fig = plt.figure(figsize = (10, 10))   # Créer une nouvelle figure avec une taille de 10x10 pouces\n",
    "    cmap = matplotlib.colors.ListedColormap( ['red', 'black'] ) # Créer une colormap avec deux couleurs : rouge et noir\n",
    "    \n",
    "    # Itérer sur 12 images\n",
    "    for im in range(12) :\n",
    "        plt.subplot(3,4,im+1) # Créer une sous-trame dans une grille de 3 lignes et 4 colonnes, im+1 est l'indice de la sous-trame actuelle\n",
    "        title = str(start+im) + \":\" + str(df.target[start+im]) # Générer le titre pour la sous-trame actuelle en combinant l'indice de l'image et une valeur à partir du DataFrame 'df'\n",
    "        plt.title(title)\n",
    "        plt.imshow(df.images[start+im], cmap=cmap) # Afficher l'image à l'indice (start+im) du DataFrame 'df', en utilisant la colormap spécifiée 'cmap'\n",
    "        plt.axis('off') # Désactiver les étiquettes et les graduations des axes pour la sous-trame actuelle\n",
    "    plt.show"
   ]
  },
  {
   "cell_type": "code",
   "execution_count": 15,
   "id": "83487992",
   "metadata": {},
   "outputs": [
    {
     "data": {
      "image/png": "[encoded data removed]",
      "text/plain": [
       "<Figure size 1000x1000 with 12 Axes>"
      ]
     },
     "metadata": {},
     "output_type": "display_data"
    }
   ],
   "source": [
    "# affiche les 12 images successivement du  datatset \n",
    "\n",
    "plot_digits(1000)"
   ]
  },
  {
   "cell_type": "code",
   "execution_count": 18,
   "id": "4b50f651",
   "metadata": {},
   "outputs": [],
   "source": [
    "# permet de reorganiser les images sous formes de tableaux\n",
    "\n",
    "y = df.target # \n",
    "x = df.images.reshape((len(df.images), -1))"
   ]
  },
  {
   "cell_type": "code",
   "execution_count": 19,
   "id": "1b564f41",
   "metadata": {},
   "outputs": [
    {
     "data": {
      "text/plain": [
       "(1797, 64)"
      ]
     },
     "execution_count": 19,
     "metadata": {},
     "output_type": "execute_result"
    }
   ],
   "source": [
    "x.shape"
   ]
  },
  {
   "cell_type": "code",
   "execution_count": 20,
   "id": "b8e5ba64",
   "metadata": {},
   "outputs": [],
   "source": [
    "# Construit le jeu de donnee d'entrainement \n",
    "\n",
    "x_train, y_train, x_test, y_test = x[:1347], y[:1347], x[1347:], y[1347:]"
   ]
  },
  {
   "cell_type": "code",
   "execution_count": 22,
   "id": "e27ecc94",
   "metadata": {},
   "outputs": [],
   "source": [
    "# intencier le reseau de neuronnes \n",
    "\n",
    "mlp_classifier = MLPClassifier(hidden_layer_sizes=(20,), activation='logistic', \n",
    "                               solver='sgd', tol=0.01, n_iter_no_change=30, random_state=1, alpha=0.0001,\n",
    "                              learning_rate_init=.1, verbose=True)"
   ]
  },
  {
   "cell_type": "code",
   "execution_count": null,
   "id": "678ed9a0",
   "metadata": {},
   "outputs": [],
   "source": []
  },
  {
   "cell_type": "code",
   "execution_count": null,
   "id": "d578ca60",
   "metadata": {},
   "outputs": [],
   "source": []
  },
  {
   "cell_type": "code",
   "execution_count": null,
   "id": "4cbf4fdd",
   "metadata": {},
   "outputs": [],
   "source": []
  },
  {
   "cell_type": "code",
   "execution_count": null,
   "id": "914cd709",
   "metadata": {},
   "outputs": [],
   "source": []
  },
  {
   "cell_type": "code",
   "execution_count": null,
   "id": "d4e56452",
   "metadata": {},
   "outputs": [],
   "source": []
  },
  {
   "cell_type": "code",
   "execution_count": null,
   "id": "b7e9ed44",
   "metadata": {},
   "outputs": [],
   "source": []
  },
  {
   "cell_type": "code",
   "execution_count": null,
   "id": "6ec647d4",
   "metadata": {},
   "outputs": [],
   "source": []
  }
 ],
 "metadata": {
  "kernelspec": {
   "display_name": "Python 3 (ipykernel)",
   "language": "python",
   "name": "python3"
  },
  "language_info": {
   "codemirror_mode": {
    "name": "ipython",
    "version": 3
   },
   "file_extension": ".py",
   "mimetype": "text/x-python",
   "name": "python",
   "nbconvert_exporter": "python",
   "pygments_lexer": "ipython3",
   "version": "3.10.9"
  }
 },
 "nbformat": 4,
 "nbformat_minor": 5
}
