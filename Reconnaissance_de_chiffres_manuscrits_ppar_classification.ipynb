{
 "cells": [
  {
   "cell_type": "markdown",
   "id": "5e845c13",
   "metadata": {},
   "source": [
    "# 0. Import des librairies et modules"
   ]
  },
  {
   "cell_type": "code",
   "execution_count": 2,
   "id": "be64043f",
   "metadata": {},
   "outputs": [
    {
     "name": "stderr",
     "output_type": "stream",
     "text": [
      "2023-09-04 18:15:20.524196: I tensorflow/tsl/cuda/cudart_stub.cc:28] Could not find cuda drivers on your machine, GPU will not be used.\n",
      "2023-09-04 18:15:21.214708: I tensorflow/tsl/cuda/cudart_stub.cc:28] Could not find cuda drivers on your machine, GPU will not be used.\n",
      "2023-09-04 18:15:21.218168: I tensorflow/core/platform/cpu_feature_guard.cc:182] This TensorFlow binary is optimized to use available CPU instructions in performance-critical operations.\n",
      "To enable the following instructions: AVX2 FMA, in other operations, rebuild TensorFlow with the appropriate compiler flags.\n",
      "2023-09-04 18:15:22.563284: W tensorflow/compiler/tf2tensorrt/utils/py_utils.cc:38] TF-TRT Warning: Could not find TensorRT\n"
     ]
    }
   ],
   "source": [
    "import numpy as np # utilisé pour effectuer des opérations numériques efficaces.\n",
    "import matplotlib.pyplot as plt # utilisée pour créer des graphiques et des visualisations.\n",
    "from tensorflow import keras # création de modèles de réseaux neuronaux.\n",
    "from tensorflow.keras import optimizers # utilisé pour configurer l'optimiseur pour l'entraînement du modèle.\n",
    "from tensorflow.keras.models import Sequential # permet de créer un modèle de réseau neuronal séquentiel.\n",
    "from tensorflow.keras.layers import Dense # utilisée pour ajouter des couches denses (entièrement connectées) au réseau neuronal.\n",
    "\n",
    "from tensorflow.keras.datasets import mnist #\n",
    "from tensorflow.keras.utils import to_categorical # utilisée pour effectuer un encodage one-hot des étiquettes cibles.\n",
    "\n",
    "from sklearn.model_selection import train_test_split # permet de diviser le jeu de données en ensembles d'entraînement et de test.\n",
    "from sklearn.preprocessing import MinMaxScaler # utilisée pour mettre à l'échelle les données d'entrée dans un certain intervalle.\n",
    "from sklearn.metrics import accuracy_score # permet de calculer la précision d'un modèle de classification par rapport aux étiquettes réelles."
   ]
  },
  {
   "cell_type": "markdown",
   "id": "290cb94c",
   "metadata": {},
   "source": [
    "# 1. Import et preparation des données"
   ]
  },
  {
   "cell_type": "code",
   "execution_count": 3,
   "id": "2aaa871e",
   "metadata": {},
   "outputs": [],
   "source": [
    "df = mnist.load_data()"
   ]
  },
  {
   "cell_type": "code",
   "execution_count": 4,
   "id": "b4bc9011",
   "metadata": {},
   "outputs": [
    {
     "name": "stdout",
     "output_type": "stream",
     "text": [
      "(60000, 28, 28)\n",
      "(60000,)\n"
     ]
    }
   ],
   "source": [
    "print(df[0][0].shape) # features\n",
    "print(df[0][1].shape) # target"
   ]
  },
  {
   "cell_type": "code",
   "execution_count": 7,
   "id": "c4392da7",
   "metadata": {},
   "outputs": [
    {
     "name": "stdout",
     "output_type": "stream",
     "text": [
      "Dimension de X avant transformation = (60000, 28, 28)\n",
      "Dimension de X apres transformation = (60000, 784)\n",
      "Dimension de y avant transformation = (60000,)\n",
      "Dimension de y apres transformation = (60000, 10)\n"
     ]
    }
   ],
   "source": [
    "X = df[0][0] # extrait de la première colonne (index 0) de la première ligne (index 0) d'un DataFrame (ou d'une structure de données similaire)\n",
    "y = df[0][1] # extrait la deuxième colonne (index 1) de la première ligne (index 0)\n",
    "\n",
    "# Transformation des tableaux (28*28) en vecteur (784*1) -> nos features doivent etre stockees dans des matrices 2\n",
    "print(f\"Dimension de X avant transformation = {X.shape}\")\n",
    "X = np.reshape(X, (X.shape[0], 28*28)) # Cette ligne transforme les images de leur forme matricielle (28x28) en une forme de vecteur (784 éléments par image)\n",
    "print(f\"Dimension de X apres transformation = {X.shape}\")\n",
    "\n",
    "# Transformation pour que chaque sortie soit une liste de probalites d'appartenir a une classe\n",
    "print(f\"Dimension de y avant transformation = {y.shape}\")\n",
    "y = to_categorical(y, num_classes = 10)\n",
    "print(f\"Dimension de y apres transformation = {y.shape}\")\n",
    " \n",
    "# Normalisation des features\n",
    "scaler = MinMaxScaler() # Cette ligne crée une instance de la classe\n",
    "X = scaler.fit_transform(X) # Cette ligne prend votre ensemble de données initial X (supposons qu'il s'agit d'une matrice de caractéristiques) et l'utilise comme argument pour la méthode fit_transform de l'objet scaler.\n",
    "\n",
    "# Split entrainement/test\n",
    "X_train, X_test, y_train, y_test = train_test_split(X, y, test_size= 0.2, random_state = 42)"
   ]
  },
  {
   "cell_type": "markdown",
   "id": "96e30568",
   "metadata": {},
   "source": [
    "# 2. Réseau de neurones"
   ]
  },
  {
   "cell_type": "code",
   "execution_count": 8,
   "id": "0f0ca56e",
   "metadata": {},
   "outputs": [
    {
     "name": "stdout",
     "output_type": "stream",
     "text": [
      "Model: \"sequential\"\n",
      "_________________________________________________________________\n",
      " Layer (type)                Output Shape              Param #   \n",
      "=================================================================\n",
      " dense (Dense)               (None, 15)                11775     \n",
      "                                                                 \n",
      " dense_1 (Dense)             (None, 15)                240       \n",
      "                                                                 \n",
      " dense_2 (Dense)             (None, 10)                160       \n",
      "                                                                 \n",
      "=================================================================\n",
      "Total params: 12175 (47.56 KB)\n",
      "Trainable params: 12175 (47.56 KB)\n",
      "Non-trainable params: 0 (0.00 Byte)\n",
      "_________________________________________________________________\n",
      "None\n"
     ]
    }
   ],
   "source": [
    "p = 15\n",
    "network = Sequential()\n",
    "\n",
    "# Couche 1 a p avec 784 entrees\n",
    "network.add(Dense(p, input_dim = 784, activation = \"sigmoid\"))\n",
    "\n",
    "# Couche 2 a p neurones\n",
    "network.add(Dense(p, activation = \"sigmoid\"))\n",
    "\n",
    "# Couche 3 a 10 neurones\n",
    "network.add(Dense(10, activation = \"sigmoid\"))\n",
    "\n",
    "# Definition de la methode de descente de gradient et de la fonction cout\n",
    "network.compile(loss = \"categorical_crossentropy\", optimizer = \"sgd\", metrics = \"accuracy\")\n",
    "\n",
    "print(network.summary())\n",
    "\n",
    "  "
   ]
  },
  {
   "cell_type": "markdown",
   "id": "313b1095",
   "metadata": {},
   "source": [
    "# 3. Entrainement et predictions du reseau"
   ]
  },
  {
   "cell_type": "code",
   "execution_count": 9,
   "id": "b1c18eea",
   "metadata": {},
   "outputs": [
    {
     "name": "stdout",
     "output_type": "stream",
     "text": [
      "Epoch 1/40\n",
      "2400/2400 [==============================] - 4s 1ms/step - loss: 2.2403 - accuracy: 0.2853\n",
      "Epoch 2/40\n",
      "2400/2400 [==============================] - 3s 1ms/step - loss: 1.9053 - accuracy: 0.4930\n",
      "Epoch 3/40\n",
      "2400/2400 [==============================] - 3s 1ms/step - loss: 1.3965 - accuracy: 0.6297\n",
      "Epoch 4/40\n",
      "2400/2400 [==============================] - 3s 1ms/step - loss: 1.0730 - accuracy: 0.7048\n",
      "Epoch 5/40\n",
      "2400/2400 [==============================] - 3s 1ms/step - loss: 0.8981 - accuracy: 0.7529\n",
      "Epoch 6/40\n",
      "2400/2400 [==============================] - 3s 1ms/step - loss: 0.7786 - accuracy: 0.7879\n",
      "Epoch 7/40\n",
      "2400/2400 [==============================] - 3s 1ms/step - loss: 0.6910 - accuracy: 0.8137\n",
      "Epoch 8/40\n",
      "2400/2400 [==============================] - 3s 1ms/step - loss: 0.6256 - accuracy: 0.8331\n",
      "Epoch 9/40\n",
      "2400/2400 [==============================] - 3s 1ms/step - loss: 0.5745 - accuracy: 0.8470\n",
      "Epoch 10/40\n",
      "2400/2400 [==============================] - 3s 1ms/step - loss: 0.5337 - accuracy: 0.8576\n",
      "Epoch 11/40\n",
      "2400/2400 [==============================] - 3s 1ms/step - loss: 0.5000 - accuracy: 0.8667\n",
      "Epoch 12/40\n",
      "2400/2400 [==============================] - 3s 1ms/step - loss: 0.4712 - accuracy: 0.8739\n",
      "Epoch 13/40\n",
      "2400/2400 [==============================] - 3s 1ms/step - loss: 0.4462 - accuracy: 0.8807\n",
      "Epoch 14/40\n",
      "2400/2400 [==============================] - 3s 1ms/step - loss: 0.4241 - accuracy: 0.8870\n",
      "Epoch 15/40\n",
      "2400/2400 [==============================] - 3s 1ms/step - loss: 0.4046 - accuracy: 0.8918\n",
      "Epoch 16/40\n",
      "2400/2400 [==============================] - 3s 1ms/step - loss: 0.3871 - accuracy: 0.8966\n",
      "Epoch 17/40\n",
      "2400/2400 [==============================] - 4s 1ms/step - loss: 0.3715 - accuracy: 0.9007\n",
      "Epoch 18/40\n",
      "2400/2400 [==============================] - 3s 1ms/step - loss: 0.3575 - accuracy: 0.9043\n",
      "Epoch 19/40\n",
      "2400/2400 [==============================] - 3s 1ms/step - loss: 0.3449 - accuracy: 0.9069\n",
      "Epoch 20/40\n",
      "2400/2400 [==============================] - 3s 1ms/step - loss: 0.3334 - accuracy: 0.9100\n",
      "Epoch 21/40\n",
      "2400/2400 [==============================] - 3s 1ms/step - loss: 0.3231 - accuracy: 0.9134\n",
      "Epoch 22/40\n",
      "2400/2400 [==============================] - 3s 1ms/step - loss: 0.3137 - accuracy: 0.9155\n",
      "Epoch 23/40\n",
      "2400/2400 [==============================] - 3s 1ms/step - loss: 0.3053 - accuracy: 0.9174\n",
      "Epoch 24/40\n",
      "2400/2400 [==============================] - 3s 1ms/step - loss: 0.2975 - accuracy: 0.9195\n",
      "Epoch 25/40\n",
      "2400/2400 [==============================] - 3s 1ms/step - loss: 0.2902 - accuracy: 0.9210\n",
      "Epoch 26/40\n",
      "2400/2400 [==============================] - 3s 1ms/step - loss: 0.2837 - accuracy: 0.9226\n",
      "Epoch 27/40\n",
      "2400/2400 [==============================] - 3s 1ms/step - loss: 0.2777 - accuracy: 0.9241\n",
      "Epoch 28/40\n",
      "2400/2400 [==============================] - 3s 1ms/step - loss: 0.2722 - accuracy: 0.9251\n",
      "Epoch 29/40\n",
      "2400/2400 [==============================] - 3s 1ms/step - loss: 0.2671 - accuracy: 0.9265\n",
      "Epoch 30/40\n",
      "2400/2400 [==============================] - 3s 1ms/step - loss: 0.2621 - accuracy: 0.9281\n",
      "Epoch 31/40\n",
      "2400/2400 [==============================] - 3s 1ms/step - loss: 0.2579 - accuracy: 0.9289\n",
      "Epoch 32/40\n",
      "2400/2400 [==============================] - 4s 2ms/step - loss: 0.2535 - accuracy: 0.9302\n",
      "Epoch 33/40\n",
      "2400/2400 [==============================] - 3s 1ms/step - loss: 0.2497 - accuracy: 0.9309\n",
      "Epoch 34/40\n",
      "2400/2400 [==============================] - 3s 1ms/step - loss: 0.2460 - accuracy: 0.9318\n",
      "Epoch 35/40\n",
      "2400/2400 [==============================] - 3s 1ms/step - loss: 0.2426 - accuracy: 0.9325\n",
      "Epoch 36/40\n",
      "2400/2400 [==============================] - 3s 1ms/step - loss: 0.2391 - accuracy: 0.9339\n",
      "Epoch 37/40\n",
      "2400/2400 [==============================] - 3s 1ms/step - loss: 0.2362 - accuracy: 0.9345\n",
      "Epoch 38/40\n",
      "2400/2400 [==============================] - 3s 1ms/step - loss: 0.2332 - accuracy: 0.9350\n",
      "Epoch 39/40\n",
      "2400/2400 [==============================] - 3s 1ms/step - loss: 0.2304 - accuracy: 0.9360\n",
      "Epoch 40/40\n",
      "2400/2400 [==============================] - 3s 1ms/step - loss: 0.2276 - accuracy: 0.9361\n"
     ]
    },
    {
     "data": {
      "text/plain": [
       "<keras.src.callbacks.History at 0x7f001dc5b610>"
      ]
     },
     "execution_count": 9,
     "metadata": {},
     "output_type": "execute_result"
    }
   ],
   "source": [
    "# calcul des points par descente de gradient\n",
    "network.fit(X_train, y_train, batch_size= 20, epochs = 40) # avec ce batch_size --> Mini Batch Gradient Descent"
   ]
  },
  {
   "cell_type": "code",
   "execution_count": null,
   "id": "c68fa5e5",
   "metadata": {},
   "outputs": [],
   "source": []
  },
  {
   "cell_type": "markdown",
   "id": "eb450e7c",
   "metadata": {},
   "source": [
    "# 4. Sensibilité de la précision en fonction du nombre de neurones"
   ]
  },
  {
   "cell_type": "code",
   "execution_count": null,
   "id": "99290a18",
   "metadata": {},
   "outputs": [],
   "source": []
  },
  {
   "cell_type": "code",
   "execution_count": null,
   "id": "b5d002e5",
   "metadata": {},
   "outputs": [],
   "source": []
  },
  {
   "cell_type": "code",
   "execution_count": null,
   "id": "51cc5e12",
   "metadata": {},
   "outputs": [],
   "source": []
  },
  {
   "cell_type": "code",
   "execution_count": null,
   "id": "29d9534d",
   "metadata": {},
   "outputs": [],
   "source": []
  },
  {
   "cell_type": "code",
   "execution_count": null,
   "id": "ea8a1df3",
   "metadata": {},
   "outputs": [],
   "source": []
  },
  {
   "cell_type": "code",
   "execution_count": null,
   "id": "682338ec",
   "metadata": {},
   "outputs": [],
   "source": []
  },
  {
   "cell_type": "code",
   "execution_count": null,
   "id": "72ead9a2",
   "metadata": {},
   "outputs": [],
   "source": []
  },
  {
   "cell_type": "code",
   "execution_count": null,
   "id": "0f2e6aae",
   "metadata": {},
   "outputs": [],
   "source": []
  },
  {
   "cell_type": "code",
   "execution_count": null,
   "id": "97f2e642",
   "metadata": {},
   "outputs": [],
   "source": []
  },
  {
   "cell_type": "code",
   "execution_count": null,
   "id": "e463c672",
   "metadata": {},
   "outputs": [],
   "source": []
  },
  {
   "cell_type": "code",
   "execution_count": null,
   "id": "e04585dc",
   "metadata": {},
   "outputs": [],
   "source": []
  },
  {
   "cell_type": "code",
   "execution_count": null,
   "id": "3830e368",
   "metadata": {},
   "outputs": [],
   "source": []
  },
  {
   "cell_type": "code",
   "execution_count": null,
   "id": "884dbbcb",
   "metadata": {},
   "outputs": [],
   "source": []
  },
  {
   "cell_type": "code",
   "execution_count": null,
   "id": "19b06a63",
   "metadata": {},
   "outputs": [],
   "source": []
  },
  {
   "cell_type": "code",
   "execution_count": null,
   "id": "0567c64b",
   "metadata": {},
   "outputs": [],
   "source": []
  },
  {
   "cell_type": "code",
   "execution_count": null,
   "id": "1c2e93dd",
   "metadata": {},
   "outputs": [],
   "source": []
  },
  {
   "cell_type": "code",
   "execution_count": null,
   "id": "e2bf992e",
   "metadata": {},
   "outputs": [],
   "source": []
  },
  {
   "cell_type": "code",
   "execution_count": null,
   "id": "aa83404c",
   "metadata": {},
   "outputs": [],
   "source": []
  },
  {
   "cell_type": "code",
   "execution_count": null,
   "id": "94014649",
   "metadata": {},
   "outputs": [],
   "source": []
  },
  {
   "cell_type": "code",
   "execution_count": null,
   "id": "6c21d6b4",
   "metadata": {},
   "outputs": [],
   "source": []
  },
  {
   "cell_type": "code",
   "execution_count": null,
   "id": "3e38f6fd",
   "metadata": {},
   "outputs": [],
   "source": []
  },
  {
   "cell_type": "code",
   "execution_count": null,
   "id": "76858585",
   "metadata": {},
   "outputs": [],
   "source": []
  },
  {
   "cell_type": "code",
   "execution_count": null,
   "id": "de51309f",
   "metadata": {},
   "outputs": [],
   "source": []
  },
  {
   "cell_type": "code",
   "execution_count": null,
   "id": "688d4ea9",
   "metadata": {},
   "outputs": [],
   "source": []
  },
  {
   "cell_type": "code",
   "execution_count": null,
   "id": "ca6dd034",
   "metadata": {},
   "outputs": [],
   "source": []
  },
  {
   "cell_type": "code",
   "execution_count": null,
   "id": "938e54b7",
   "metadata": {},
   "outputs": [],
   "source": []
  },
  {
   "cell_type": "code",
   "execution_count": null,
   "id": "c6ac6c11",
   "metadata": {},
   "outputs": [],
   "source": []
  },
  {
   "cell_type": "code",
   "execution_count": null,
   "id": "f44fdde2",
   "metadata": {},
   "outputs": [],
   "source": []
  },
  {
   "cell_type": "code",
   "execution_count": null,
   "id": "4764ad98",
   "metadata": {},
   "outputs": [],
   "source": []
  }
 ],
 "metadata": {
  "kernelspec": {
   "display_name": "Python 3 (ipykernel)",
   "language": "python",
   "name": "python3"
  },
  "language_info": {
   "codemirror_mode": {
    "name": "ipython",
    "version": 3
   },
   "file_extension": ".py",
   "mimetype": "text/x-python",
   "name": "python",
   "nbconvert_exporter": "python",
   "pygments_lexer": "ipython3",
   "version": "3.10.9"
  }
 },
 "nbformat": 4,
 "nbformat_minor": 5
}
