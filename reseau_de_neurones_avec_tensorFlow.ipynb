{
 "cells": [
  {
   "cell_type": "code",
   "execution_count": 10,
   "id": "0e790dcf",
   "metadata": {},
   "outputs": [],
   "source": [
    "import numpy as np\n",
    "import matplotlib.pyplot as plt\n",
    "from tensorflow import keras\n",
    "from tensorflow.keras.models import Sequential\n",
    "from tensorflow.keras.layers import Dense"
   ]
  },
  {
   "cell_type": "markdown",
   "id": "c2b23207",
   "metadata": {},
   "source": [
    "# 1. Definir l'architecture du reseau"
   ]
  },
  {
   "cell_type": "code",
   "execution_count": 2,
   "id": "eec64f35",
   "metadata": {},
   "outputs": [
    {
     "name": "stdout",
     "output_type": "stream",
     "text": [
      "Model: \"sequential\"\n",
      "_________________________________________________________________\n",
      " Layer (type)                Output Shape              Param #   \n",
      "=================================================================\n",
      " dense (Dense)               (None, 2)                 4         \n",
      "                                                                 \n",
      " dense_1 (Dense)             (None, 1)                 3         \n",
      "                                                                 \n",
      "=================================================================\n",
      "Total params: 7 (28.00 Byte)\n",
      "Trainable params: 7 (28.00 Byte)\n",
      "Non-trainable params: 0 (0.00 Byte)\n",
      "_________________________________________________________________\n"
     ]
    }
   ],
   "source": [
    "# Architecture séquentielle\n",
    "network = Sequential() # instanciation du réseau de neurones\n",
    "\n",
    "# Couches de neurones\n",
    "network.add(Dense(2, input_dim = 1, activation = \"relu\")) # première couche du réseau\n",
    "network.add(Dense(1, activation = \"relu\")) # deuxième couche du réseau\n",
    "\n",
    "network.summary()"
   ]
  },
  {
   "cell_type": "markdown",
   "id": "8e1dcefe",
   "metadata": {},
   "source": [
    "# 2. Ajout des poids des neurones"
   ]
  },
  {
   "cell_type": "code",
   "execution_count": 3,
   "id": "9257691d",
   "metadata": {},
   "outputs": [
    {
     "data": {
      "text/plain": [
       "[array([[1.3565906, 1.139675 ]], dtype=float32),\n",
       " array([0., 0.], dtype=float32)]"
      ]
     },
     "execution_count": 3,
     "metadata": {},
     "output_type": "execute_result"
    }
   ],
   "source": [
    "network.layers[0].get_weights()"
   ]
  },
  {
   "cell_type": "code",
   "execution_count": 4,
   "id": "1af3d8d4",
   "metadata": {},
   "outputs": [
    {
     "data": {
      "text/plain": [
       "[array([[-0.35215008],\n",
       "        [-0.7014392 ]], dtype=float32),\n",
       " array([0.], dtype=float32)]"
      ]
     },
     "execution_count": 4,
     "metadata": {},
     "output_type": "execute_result"
    }
   ],
   "source": [
    "network.layers[1].get_weights()"
   ]
  },
  {
   "cell_type": "code",
   "execution_count": 6,
   "id": "6e1bbe3a",
   "metadata": {},
   "outputs": [],
   "source": [
    "# premiere couche \n",
    "coeff = np.array([[1, -0.5]])\n",
    "bias = np.array([-1, 1])\n",
    "weights = [coeff, bias]\n",
    "network.layers[0].set_weights(weights)\n",
    "\n",
    "# deuxieme couche \n",
    "coeff = np.array([[1, 1]]).T\n",
    "bias = np.array([0])\n",
    "weights = [coeff, bias]\n",
    "network.layers[1].set_weights(weights)"
   ]
  },
  {
   "cell_type": "markdown",
   "id": "96625b63",
   "metadata": {},
   "source": [
    "# 3. Evaluation du reseau "
   ]
  },
  {
   "cell_type": "code",
   "execution_count": 7,
   "id": "1105f5b1",
   "metadata": {},
   "outputs": [
    {
     "name": "stdout",
     "output_type": "stream",
     "text": [
      "1/1 [==============================] - 0s 291ms/step\n",
      "[[2.]]\n"
     ]
    }
   ],
   "source": [
    "x = np.array([[3]])\n",
    "y = network.predict(x)\n",
    "print(y)"
   ]
  },
  {
   "cell_type": "markdown",
   "id": "f3b93aa9",
   "metadata": {},
   "source": [
    "# 4. Visualisation de la frontiere de decision"
   ]
  },
  {
   "cell_type": "code",
   "execution_count": 9,
   "id": "fbcd5fb9",
   "metadata": {},
   "outputs": [
    {
     "name": "stdout",
     "output_type": "stream",
     "text": [
      "4/4 [==============================] - 0s 2ms/step\n"
     ]
    },
    {
     "data": {
      "image/png": "[encoded data removed]",
      "text/plain": [
       "<Figure size 640x480 with 1 Axes>"
      ]
     },
     "metadata": {},
     "output_type": "display_data"
    }
   ],
   "source": [
    "x = np.linspace(-2, 3, 100)\n",
    "y = network.predict(x)\n",
    "\n",
    "plt.figure()\n",
    "plt.plot(x,y)\n",
    "plt.grid(visible = True)\n",
    "plt.show()"
   ]
  }
 ],
 "metadata": {
  "kernelspec": {
   "display_name": "Python 3 (ipykernel)",
   "language": "python",
   "name": "python3"
  },
  "language_info": {
   "codemirror_mode": {
    "name": "ipython",
    "version": 3
   },
   "file_extension": ".py",
   "mimetype": "text/x-python",
   "name": "python",
   "nbconvert_exporter": "python",
   "pygments_lexer": "ipython3",
   "version": "3.10.9"
  }
 },
 "nbformat": 4,
 "nbformat_minor": 5
}
