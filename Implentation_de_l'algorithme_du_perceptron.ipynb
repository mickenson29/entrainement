{
 "cells": [
  {
   "cell_type": "code",
   "execution_count": 100,
   "id": "7370c1ad",
   "metadata": {},
   "outputs": [],
   "source": [
    "# Import des bibliotheque\n",
    "\n",
    "import numpy as np\n",
    "import pandas as pd\n",
    "import matplotlib.pyplot as plt\n",
    "from sklearn.metrics import accuracy_score"
   ]
  },
  {
   "cell_type": "code",
   "execution_count": 101,
   "id": "e10ab88d",
   "metadata": {},
   "outputs": [],
   "source": [
    "class Perceptron:\n",
    "    # Attributs de classe\n",
    "    def __init__(self, learning_rate,n_iter):\n",
    "        self.weight = None \n",
    "        self.bias = None\n",
    "        self.learning_rate = learning_rate\n",
    "        self.n_iter = n_iter\n",
    "        \n",
    "    # Fonction d'activation\n",
    "    def activation(self, z):\n",
    "        return np.heaviside(z, 0) # fonction heaviside\n",
    "    \n",
    "    # Fonction d'entrainement\n",
    "    def fit(self, X, t):\n",
    "        n_features = X.shape[1] # = nombre de columns de X\n",
    "        \n",
    "        # Iself.weight = None \n",
    "        self.weights = np.zeros((n_features))\n",
    "        self.bias = 0\n",
    "        \n",
    "        # On itere jusqu'a n_iter\n",
    "        for i in range(self.n_iter):\n",
    "            # On parcours toutues les données d'entrainement\n",
    "            for i in range(len(X[:,0])):\n",
    "                z = np.dot(X, self.weights) + self.bias # = fonction d'agregation (w1x1 + w2x2 + w0)\n",
    "                y_pred = self.activation(z) # fonction d'activation a laquelle on fournit la somme ponderer des entres\n",
    "                \n",
    "                #MaJ des poids eu du biais\n",
    "                self.weights = self.weights + self.learning_rate * (y[i] - y_pred[i] * X[i,:])\n",
    "                self.bias = self.bias + self.learning_rate * (y[i] - y_pred[i])\n",
    "        \n",
    "        return self.weights, self.bias\n",
    "    \n",
    "    def predict(self, X):\n",
    "        z = np.dot(X, self.weights) + self.bias\n",
    "        return self.activation(z)"
   ]
  },
  {
   "cell_type": "code",
   "execution_count": 102,
   "id": "199f7a9c",
   "metadata": {},
   "outputs": [
    {
     "data": {
      "text/html": [
       "<div>\n",
       "<style scoped>\n",
       "    .dataframe tbody tr th:only-of-type {\n",
       "        vertical-align: middle;\n",
       "    }\n",
       "\n",
       "    .dataframe tbody tr th {\n",
       "        vertical-align: top;\n",
       "    }\n",
       "\n",
       "    .dataframe thead th {\n",
       "        text-align: right;\n",
       "    }\n",
       "</style>\n",
       "<table border=\"1\" class=\"dataframe\">\n",
       "  <thead>\n",
       "    <tr style=\"text-align: right;\">\n",
       "      <th></th>\n",
       "      <th>Taille (m)</th>\n",
       "      <th>Poids (kg)</th>\n",
       "      <th>Sexe</th>\n",
       "    </tr>\n",
       "  </thead>\n",
       "  <tbody>\n",
       "    <tr>\n",
       "      <th>0</th>\n",
       "      <td>1.80</td>\n",
       "      <td>75</td>\n",
       "      <td>1</td>\n",
       "    </tr>\n",
       "    <tr>\n",
       "      <th>1</th>\n",
       "      <td>1.85</td>\n",
       "      <td>82</td>\n",
       "      <td>1</td>\n",
       "    </tr>\n",
       "    <tr>\n",
       "      <th>2</th>\n",
       "      <td>1.82</td>\n",
       "      <td>69</td>\n",
       "      <td>1</td>\n",
       "    </tr>\n",
       "    <tr>\n",
       "      <th>3</th>\n",
       "      <td>1.88</td>\n",
       "      <td>85</td>\n",
       "      <td>1</td>\n",
       "    </tr>\n",
       "    <tr>\n",
       "      <th>4</th>\n",
       "      <td>1.90</td>\n",
       "      <td>92</td>\n",
       "      <td>1</td>\n",
       "    </tr>\n",
       "    <tr>\n",
       "      <th>5</th>\n",
       "      <td>1.65</td>\n",
       "      <td>58</td>\n",
       "      <td>0</td>\n",
       "    </tr>\n",
       "    <tr>\n",
       "      <th>6</th>\n",
       "      <td>1.70</td>\n",
       "      <td>64</td>\n",
       "      <td>0</td>\n",
       "    </tr>\n",
       "    <tr>\n",
       "      <th>7</th>\n",
       "      <td>1.72</td>\n",
       "      <td>65</td>\n",
       "      <td>0</td>\n",
       "    </tr>\n",
       "    <tr>\n",
       "      <th>8</th>\n",
       "      <td>1.70</td>\n",
       "      <td>50</td>\n",
       "      <td>0</td>\n",
       "    </tr>\n",
       "    <tr>\n",
       "      <th>9</th>\n",
       "      <td>1.68</td>\n",
       "      <td>58</td>\n",
       "      <td>0</td>\n",
       "    </tr>\n",
       "  </tbody>\n",
       "</table>\n",
       "</div>"
      ],
      "text/plain": [
       "   Taille (m)  Poids (kg)  Sexe\n",
       "0        1.80          75     1\n",
       "1        1.85          82     1\n",
       "2        1.82          69     1\n",
       "3        1.88          85     1\n",
       "4        1.90          92     1\n",
       "5        1.65          58     0\n",
       "6        1.70          64     0\n",
       "7        1.72          65     0\n",
       "8        1.70          50     0\n",
       "9        1.68          58     0"
      ]
     },
     "execution_count": 102,
     "metadata": {},
     "output_type": "execute_result"
    }
   ],
   "source": [
    "df = pd.read_excel(\"/home/jokos29/Téléchargements/height_weight.xlsx\")\n",
    "df.head(15)"
   ]
  },
  {
   "cell_type": "code",
   "execution_count": 105,
   "id": "07aad113",
   "metadata": {},
   "outputs": [
    {
     "name": "stdout",
     "output_type": "stream",
     "text": [
      "(10, 2)\n",
      "(10,)\n"
     ]
    }
   ],
   "source": [
    "from sklearn.preprocessing import StandardScaler\n",
    "\n",
    "scaler = StandardScaler()\n",
    "\n",
    "X = np.array(df.iloc[:, 0:2])\n",
    "X = scaler.fit_transform(X)\n",
    "\n",
    "y = np.array(df.iloc[:, 2])\n",
    "print(X.shape)\n",
    "print(y.shape)"
   ]
  },
  {
   "cell_type": "code",
   "execution_count": 106,
   "id": "fec148cd",
   "metadata": {},
   "outputs": [
    {
     "name": "stdout",
     "output_type": "stream",
     "text": [
      "1.0\n",
      "[1 1 1 1 1 0 0 0 0 0]\n",
      "[1. 1. 1. 1. 1. 0. 0. 0. 0. 0.]\n"
     ]
    }
   ],
   "source": [
    "perceptron = Perceptron(0.005, 10000) # creation d'une instance de la classe Perceptron \n",
    "perceptron.fit(X,y) # entrainement de l'instance \n",
    "pred = perceptron.predict(X) # prediction\n",
    "score = accuracy_score(pred, y) # calcul du coefficient R2\n",
    "print(score)\n",
    "print(y)\n",
    "print(pred)"
   ]
  },
  {
   "cell_type": "code",
   "execution_count": 107,
   "id": "8f6c6f20",
   "metadata": {},
   "outputs": [
    {
     "data": {
      "image/png": "[encoded data removed]",
      "text/plain": [
       "<Figure size 640x480 with 1 Axes>"
      ]
     },
     "metadata": {},
     "output_type": "display_data"
    }
   ],
   "source": [
    "plt.figure()\n",
    "\n",
    "# Nuage de points\n",
    "plt.scatter(X[:,0], X[:,1], c= y)\n",
    "x1 = np.linspace(np.min(X[:,0]), np.max(X[:,0]), 100)\n",
    "x2 = (-1/perceptron.weights[1]) * (perceptron.weights[0] * x1 + perceptron.bias)\n",
    "plt.plot(x1, x2, c= \"red\")\n",
    "plt.show()"
   ]
  }
 ],
 "metadata": {
  "kernelspec": {
   "display_name": "Python 3 (ipykernel)",
   "language": "python",
   "name": "python3"
  },
  "language_info": {
   "codemirror_mode": {
    "name": "ipython",
    "version": 3
   },
   "file_extension": ".py",
   "mimetype": "text/x-python",
   "name": "python",
   "nbconvert_exporter": "python",
   "pygments_lexer": "ipython3",
   "version": "3.10.9"
  }
 },
 "nbformat": 4,
 "nbformat_minor": 5
}
