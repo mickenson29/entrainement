{
 "cells": [
  {
   "cell_type": "markdown",
   "id": "b4050cb1",
   "metadata": {},
   "source": [
    "# 1. Import"
   ]
  },
  {
   "cell_type": "code",
   "execution_count": 26,
   "id": "57b7fa29",
   "metadata": {},
   "outputs": [],
   "source": [
    "import numpy as np\n",
    "import matplotlib.pyplot as plt\n",
    "from keras import layers\n",
    "from keras.models import Sequential\n",
    "from keras.datasets import mnist\n",
    "from keras.utils import to_categorical\n",
    "from sklearn.model_selection import train_test_split\n",
    "from sklearn.preprocessing import MinMaxScaler"
   ]
  },
  {
   "cell_type": "markdown",
   "id": "a47022d4",
   "metadata": {},
   "source": [
    "# 2. Mise en place du modele"
   ]
  },
  {
   "cell_type": "code",
   "execution_count": 27,
   "id": "7f8c241a",
   "metadata": {},
   "outputs": [
    {
     "name": "stdout",
     "output_type": "stream",
     "text": [
      "Model: \"sequential_4\"\n",
      "_________________________________________________________________\n",
      " Layer (type)                Output Shape              Param #   \n",
      "=================================================================\n",
      " conv2d_12 (Conv2D)          (None, 26, 26, 32)        320       \n",
      "                                                                 \n",
      " max_pooling2d_8 (MaxPoolin  (None, 13, 13, 32)        0         \n",
      " g2D)                                                            \n",
      "                                                                 \n",
      " conv2d_13 (Conv2D)          (None, 11, 11, 64)        18496     \n",
      "                                                                 \n",
      " max_pooling2d_9 (MaxPoolin  (None, 5, 5, 64)          0         \n",
      " g2D)                                                            \n",
      "                                                                 \n",
      " conv2d_14 (Conv2D)          (None, 3, 3, 64)          36928     \n",
      "                                                                 \n",
      " flatten_4 (Flatten)         (None, 576)               0         \n",
      "                                                                 \n",
      " dense_8 (Dense)             (None, 64)                36928     \n",
      "                                                                 \n",
      " dense_9 (Dense)             (None, 10)                650       \n",
      "                                                                 \n",
      "=================================================================\n",
      "Total params: 93322 (364.54 KB)\n",
      "Trainable params: 93322 (364.54 KB)\n",
      "Non-trainable params: 0 (0.00 Byte)\n",
      "_________________________________________________________________\n"
     ]
    }
   ],
   "source": [
    "model = Sequential()\n",
    "\n",
    "# Couches de convolution du modele\n",
    "model.add(layers.Conv2D(32, (3,3), input_shape = (28, 28, 1), activation = \"relu\"))\n",
    "model.add(layers.MaxPooling2D((2, 2)))\n",
    "model.add(layers.Conv2D(64, (3,3), activation = \"relu\"))\n",
    "model.add(layers.MaxPooling2D((2, 2)))\n",
    "model.add(layers.Conv2D(64, (3,3), activation = \"relu\"))\n",
    "\n",
    "# Couche Dense pour la classification\n",
    "model.add(layers.Flatten()) # transformation 2D -> 1D\n",
    "model.add(layers.Dense(64, activation = \"relu\"))\n",
    "model.add(layers.Dense(10, activation = \"sigmoid\"))\n",
    "\n",
    "model.summary()"
   ]
  },
  {
   "cell_type": "code",
   "execution_count": 28,
   "id": "c5ffa60f",
   "metadata": {},
   "outputs": [],
   "source": [
    "model.compile(loss = \"categorical_crossentropy\", optimizer = \"adam\", metrics = \"accuracy\")"
   ]
  },
  {
   "cell_type": "markdown",
   "id": "3c3b86cd",
   "metadata": {},
   "source": [
    "# import et preparation des données"
   ]
  },
  {
   "cell_type": "code",
   "execution_count": 29,
   "id": "a0e3ab5b",
   "metadata": {},
   "outputs": [
    {
     "name": "stdout",
     "output_type": "stream",
     "text": [
      "(60000, 28, 28, 1)\n",
      "(60000,)\n"
     ]
    }
   ],
   "source": [
    "df = mnist.load_data()\n",
    "\n",
    "X = df[0][0]\n",
    "X = X.reshape((60000, 28, 28, 1))\n",
    "y = df[0][1]\n",
    "print(X.shape)\n",
    "print(y.shape)"
   ]
  },
  {
   "cell_type": "code",
   "execution_count": 31,
   "id": "801555c7",
   "metadata": {},
   "outputs": [],
   "source": [
    "X_train, X_test, y_train, y_test = train_test_split(X,y, test_size= 0.2, random_state= 42)\n",
    "\n",
    "X_train = X_train/255\n",
    "X_test = X_test/255\n",
    "\n",
    "y_train = to_categorical(y_train)\n",
    "y_test = to_categorical(y_test)"
   ]
  },
  {
   "cell_type": "markdown",
   "id": "e5565000",
   "metadata": {},
   "source": [
    "# 3. Entrainement et evaluation"
   ]
  },
  {
   "cell_type": "code",
   "execution_count": 32,
   "id": "4574f9af",
   "metadata": {},
   "outputs": [
    {
     "name": "stdout",
     "output_type": "stream",
     "text": [
      "Epoch 1/10\n",
      "750/750 [==============================] - 21s 26ms/step - loss: 0.2201 - accuracy: 0.9308\n",
      "Epoch 2/10\n",
      "750/750 [==============================] - 21s 29ms/step - loss: 0.0562 - accuracy: 0.9825\n",
      "Epoch 3/10\n",
      "750/750 [==============================] - 30s 40ms/step - loss: 0.0406 - accuracy: 0.9874\n",
      "Epoch 4/10\n",
      "750/750 [==============================] - 27s 36ms/step - loss: 0.0303 - accuracy: 0.9900\n",
      "Epoch 5/10\n",
      "750/750 [==============================] - 22s 30ms/step - loss: 0.0246 - accuracy: 0.9922\n",
      "Epoch 6/10\n",
      "750/750 [==============================] - 20s 26ms/step - loss: 0.0204 - accuracy: 0.9932\n",
      "Epoch 7/10\n",
      "750/750 [==============================] - 24s 32ms/step - loss: 0.0164 - accuracy: 0.9946\n",
      "Epoch 8/10\n",
      "750/750 [==============================] - 29s 38ms/step - loss: 0.0143 - accuracy: 0.9953\n",
      "Epoch 9/10\n",
      "750/750 [==============================] - 20s 27ms/step - loss: 0.0129 - accuracy: 0.9959\n",
      "Epoch 10/10\n",
      "750/750 [==============================] - 20s 27ms/step - loss: 0.0089 - accuracy: 0.9973\n"
     ]
    },
    {
     "data": {
      "text/plain": [
       "<keras.src.callbacks.History at 0x7f13482a7700>"
      ]
     },
     "execution_count": 32,
     "metadata": {},
     "output_type": "execute_result"
    }
   ],
   "source": [
    "model.fit(X_train, y_train, batch_size = 64, epochs = 10)"
   ]
  },
  {
   "cell_type": "code",
   "execution_count": 33,
   "id": "8049745e",
   "metadata": {},
   "outputs": [
    {
     "name": "stdout",
     "output_type": "stream",
     "text": [
      "375/375 [==============================] - 2s 4ms/step - loss: 0.0426 - accuracy: 0.9902\n",
      "Precision = 99.0%\n"
     ]
    }
   ],
   "source": [
    "test_loss, test_accuracy = model.evaluate(X_test, y_test)\n",
    "print(f\"Precision = {np.round(test_accuracy*100, decimals = 1)}%\")"
   ]
  }
 ],
 "metadata": {
  "kernelspec": {
   "display_name": "Python 3 (ipykernel)",
   "language": "python",
   "name": "python3"
  },
  "language_info": {
   "codemirror_mode": {
    "name": "ipython",
    "version": 3
   },
   "file_extension": ".py",
   "mimetype": "text/x-python",
   "name": "python",
   "nbconvert_exporter": "python",
   "pygments_lexer": "ipython3",
   "version": "3.10.9"
  }
 },
 "nbformat": 4,
 "nbformat_minor": 5
}
